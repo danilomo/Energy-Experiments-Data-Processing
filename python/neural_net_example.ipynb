{
 "cells": [
  {
   "cell_type": "code",
   "execution_count": 1,
   "metadata": {},
   "outputs": [],
   "source": [
    "# import numpy and pandas, and DataFrame / Series\n",
    "import numpy as np\n",
    "import pandas as pd\n",
    "from pandas import DataFrame, Series\n",
    "\n",
    "# Set some pandas options\n",
    "pd.set_option('display.notebook_repr_html', True)\n",
    "pd.set_option('display.max_columns', 20)\n",
    "pd.set_option('display.max_rows', 10)\n",
    "\n",
    "# And some items for matplotlib\n",
    "%matplotlib inline\n",
    "import matplotlib.pyplot as plt\n",
    "import logprocessing as lp\n",
    "import io\n",
    "from IPython.display import display, HTML"
   ]
  },
  {
   "cell_type": "code",
   "execution_count": 2,
   "metadata": {},
   "outputs": [],
   "source": [
    "m =  lp.MetadataBuilder().load_cpu_cores(32).build()\n",
    "\n",
    "query = {\n",
    "        \"header\": \"timestamp cpu1 io_write io_read net_down net_up memory power\",\n",
    "        \"columns\": \"cpu0.timestamp, 100 - cpu0.idle, io.writet, io.readt, net.download, net.upload, memory.used, mean( energy.power_active )\"\n",
    "}\n",
    "\n",
    "def dataframe_from_exp( d ):\n",
    "    buffer = io.StringIO()\n",
    "\n",
    "    p = lp.LogProcessor( \n",
    "        directory = d,\n",
    "        meta = m,\n",
    "        query = query,\n",
    "        _file = buffer)\n",
    "\n",
    "    p.process()\n",
    "    buffer.flush()\n",
    "    buffer.seek(0)\n",
    "    df = pd.read_csv( buffer, delimiter=' ', index_col = False)\n",
    "    buffer.close()\n",
    "    \n",
    "    return df\n",
    "    "
   ]
  },
  {
   "cell_type": "code",
   "execution_count": 3,
   "metadata": {},
   "outputs": [],
   "source": [
    "df = dataframe_from_exp(\"../experiments/\")\n"
   ]
  },
  {
   "cell_type": "code",
   "execution_count": 9,
   "metadata": {},
   "outputs": [
    {
     "name": "stdout",
     "output_type": "stream",
     "text": [
      "     power    cpu1\n",
      "0    0.592  0.9194\n",
      "1    0.514  0.7458\n",
      "2    0.511  0.7550\n",
      "3    0.519  0.7483\n",
      "4    0.507  0.7580\n",
      "..     ...     ...\n",
      "895  0.550  0.8968\n",
      "896  0.551  0.8987\n",
      "897  0.540  0.8977\n",
      "898  0.552  0.9099\n",
      "899  0.542  0.8187\n",
      "\n",
      "[900 rows x 2 columns]\n"
     ]
    }
   ],
   "source": [
    "#single-hidden layer neural network \n",
    "import numpy as np\n",
    "\n",
    "df_norm = pd.DataFrame()\n",
    "df_norm[\"power\"] = df.power / 200\n",
    "df_norm[\"cpu1\"] = df.cpu1 / 100\n",
    "\n",
    "print(df_norm)\n"
   ]
  }
 ],
 "metadata": {
  "kernelspec": {
   "display_name": "Python 3",
   "language": "python",
   "name": "python3"
  },
  "language_info": {
   "codemirror_mode": {
    "name": "ipython",
    "version": 3
   },
   "file_extension": ".py",
   "mimetype": "text/x-python",
   "name": "python",
   "nbconvert_exporter": "python",
   "pygments_lexer": "ipython3",
   "version": "3.6.4"
  }
 },
 "nbformat": 4,
 "nbformat_minor": 2
}
