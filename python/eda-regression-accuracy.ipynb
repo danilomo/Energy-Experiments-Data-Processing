{
 "cells": [
  {
   "cell_type": "code",
   "execution_count": 4,
   "metadata": {
    "scrolled": true
   },
   "outputs": [],
   "source": [
    "# import numpy and pandas, and DataFrame / Series\n",
    "import numpy as np\n",
    "import pandas as pd\n",
    "from pandas import DataFrame, Series\n",
    "# Set some pandas options\n",
    "pd.set_option('display.height', 1000)\n",
    "pd.set_option('display.max_rows', 50)\n",
    "pd.set_option('display.max_columns', 500)\n",
    "pd.set_option('display.width', 1000)\n",
    "# And some items for matplotlib\n",
    "%matplotlib inline\n",
    "import matplotlib.pyplot as plt\n",
    "import logprocessing as lp\n",
    "import io\n",
    "from IPython.display import display, HTML\n",
    "import statsmodels.formula.api as smf"
   ]
  },
  {
   "cell_type": "code",
   "execution_count": 6,
   "metadata": {
    "scrolled": true
   },
   "outputs": [],
   "source": [
    "meta =  lp.MetadataBuilder().load_cpu_cores(32).build()\n",
    "\n",
    "query = {\n",
    "        \"header\": \"timestamp cpu1 io_write io_read net_down net_up memory power\",\n",
    "        \"columns\": \"cpu0.timestamp, 100 - cpu0.idle, io.writet, io.readt, net.download, net.upload, memory.used, mean( energy.power_active )\"\n",
    "} \n",
    "\n",
    "#create alias for function\n",
    "experiment = lambda x : (lp.get_dataframe_from_folder(\n",
    "    \"/home/danilo/Dropbox/Workspace/Experiments0503/\" + x, meta, query))\n",
    "    "
   ]
  },
  {
   "cell_type": "code",
   "execution_count": 7,
   "metadata": {
    "scrolled": true
   },
   "outputs": [
    {
     "name": "stdout",
     "output_type": "stream",
     "text": [
      "1800\n"
     ]
    }
   ],
   "source": [
    "df = experiment(\"f22/\")\n",
    "df[\"io\"] = df[\"io_read\"] + df[\"io_write\"]\n",
    "mod = smf.ols(formula='power ~ cpu1 + io', data=df)\n",
    "res = mod.fit()\n",
    "\n",
    "print(df.shape[0])"
   ]
  },
  {
   "cell_type": "code",
   "execution_count": 15,
   "metadata": {},
   "outputs": [
    {
     "name": "stdout",
     "output_type": "stream",
     "text": [
      "                            OLS Regression Results                            \n",
      "==============================================================================\n",
      "Dep. Variable:                  power   R-squared:                       0.702\n",
      "Model:                            OLS   Adj. R-squared:                  0.701\n",
      "Method:                 Least Squares   F-statistic:                     528.3\n",
      "Date:                Mon, 12 Mar 2018   Prob (F-statistic):          8.02e-234\n",
      "Time:                        11:45:45   Log-Likelihood:                -2496.7\n",
      "No. Observations:                 900   AIC:                             5003.\n",
      "Df Residuals:                     895   BIC:                             5027.\n",
      "Df Model:                           4                                         \n",
      "Covariance Type:            nonrobust                                         \n",
      "==============================================================================\n",
      "                 coef    std err          t      P>|t|      [0.025      0.975]\n",
      "------------------------------------------------------------------------------\n",
      "Intercept    150.3122      0.941    159.735      0.000     148.465     152.159\n",
      "cpu1_f21       0.4735      0.010     45.093      0.000       0.453       0.494\n",
      "cpu1_f22      -0.3231      0.339     -0.953      0.341      -0.988       0.342\n",
      "io_f21      5.601e-05   4.07e-05      1.375      0.169   -2.39e-05       0.000\n",
      "io_f22        -0.0039      0.084     -0.047      0.963      -0.168       0.160\n",
      "==============================================================================\n",
      "Omnibus:                      125.301   Durbin-Watson:                   1.411\n",
      "Prob(Omnibus):                  0.000   Jarque-Bera (JB):              178.955\n",
      "Skew:                           1.011   Prob(JB):                     1.38e-39\n",
      "Kurtosis:                       3.827   Cond. No.                     7.59e+04\n",
      "==============================================================================\n",
      "\n",
      "Warnings:\n",
      "[1] Standard Errors assume that the covariance matrix of the errors is correctly specified.\n",
      "[2] The condition number is large, 7.59e+04. This might indicate that there are\n",
      "strong multicollinearity or other numerical problems.\n"
     ]
    }
   ],
   "source": [
    "def apply_regression( dir1, dir2, formula):\n",
    "    dff21 = experiment(dir1)\n",
    "    dff22 = experiment(dir2)\n",
    "\n",
    "    dfjoint = pd.DataFrame()\n",
    "\n",
    "    dfjoint[\"power\"] = dff21[\"power\"] + dff22[\"power\"]\n",
    "    dfjoint[\"cpu1_f21\"] = dff21[\"cpu1\"]\n",
    "    dfjoint[\"cpu1_f22\"] = dff22[\"cpu1\"]\n",
    "    dfjoint[\"io_f21\"] = dff21[\"io_read\"] + dff21[\"io_write\"]\n",
    "    dfjoint[\"io_f22\"] = dff22[\"io_read\"] + dff22[\"io_write\"]\n",
    "\n",
    "    mod = smf.ols(formula = formula , data=dfjoint)\n",
    "    res = mod.fit()\n",
    "\n",
    "    return res\n",
    "    \n",
    "r = apply_regression( \"f21/one_server\", \"f22/one_server\", 'power ~ cpu1_f21 + cpu1_f22 + io_f21 + io_f22')\n",
    "\n",
    "print(r.summary())\n",
    "print(r.rsquared)"
   ]
  },
  {
   "cell_type": "code",
   "execution_count": 23,
   "metadata": {},
   "outputs": [
    {
     "data": {
      "text/html": [
       "<div>\n",
       "<style scoped>\n",
       "    .dataframe tbody tr th:only-of-type {\n",
       "        vertical-align: middle;\n",
       "    }\n",
       "\n",
       "    .dataframe tbody tr th {\n",
       "        vertical-align: top;\n",
       "    }\n",
       "\n",
       "    .dataframe thead th {\n",
       "        text-align: right;\n",
       "    }\n",
       "</style>\n",
       "<table border=\"1\" class=\"dataframe\">\n",
       "  <thead>\n",
       "    <tr style=\"text-align: right;\">\n",
       "      <th></th>\n",
       "      <th>R squared</th>\n",
       "    </tr>\n",
       "  </thead>\n",
       "  <tbody>\n",
       "    <tr>\n",
       "      <th>one server</th>\n",
       "      <td>0.702469</td>\n",
       "    </tr>\n",
       "    <tr>\n",
       "      <th>two servers</th>\n",
       "      <td>0.804604</td>\n",
       "    </tr>\n",
       "    <tr>\n",
       "      <th>both</th>\n",
       "      <td>0.699668</td>\n",
       "    </tr>\n",
       "    <tr>\n",
       "      <th>single machine</th>\n",
       "      <td>0.876181</td>\n",
       "    </tr>\n",
       "  </tbody>\n",
       "</table>\n",
       "</div>"
      ],
      "text/plain": [
       "                R squared\n",
       "one server       0.702469\n",
       "two servers      0.804604\n",
       "both             0.699668\n",
       "single machine   0.876181"
      ]
     },
     "execution_count": 23,
     "metadata": {},
     "output_type": "execute_result"
    }
   ],
   "source": [
    "r1 = apply_regression( \"f21/one_server\", \"f22/one_server\", 'power ~ cpu1_f21 + cpu1_f22 + io_f21 + io_f22')\n",
    "r2 = apply_regression( \"f21/two_servers\", \"f22/two_servers\", 'power ~ cpu1_f21 + cpu1_f22 + io_f21 + io_f22')\n",
    "r3 = apply_regression( \"f21\", \"f22\", 'power ~ cpu1_f21 + cpu1_f22 + io_f21 + io_f22')\n",
    "\n",
    "df_singlemachine = experiment( \"f21/one_server/\")\n",
    "\n",
    "mod = smf.ols(formula='power ~ cpu1', data=df_singlemachine)\n",
    "r4 = mod.fit()\n",
    "\n",
    "df = pd.DataFrame({\n",
    "    'R squared' : pd.Series([ r.rsquared for r in [r1, r2, r3, r4]], index=['one server', 'two servers', 'both', 'single machine'])\n",
    "})\n",
    "\n",
    "df"
   ]
  }
 ],
 "metadata": {
  "kernelspec": {
   "display_name": "Python 3",
   "language": "python",
   "name": "python3"
  },
  "language_info": {
   "codemirror_mode": {
    "name": "ipython",
    "version": 3
   },
   "file_extension": ".py",
   "mimetype": "text/x-python",
   "name": "python",
   "nbconvert_exporter": "python",
   "pygments_lexer": "ipython3",
   "version": "3.6.4"
  }
 },
 "nbformat": 4,
 "nbformat_minor": 2
}
