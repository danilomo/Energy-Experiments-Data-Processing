{
 "cells": [
  {
   "cell_type": "code",
   "execution_count": 1,
   "metadata": {
    "scrolled": true
   },
   "outputs": [],
   "source": [
    "# import numpy and pandas, and DataFrame / Series\n",
    "import numpy as np\n",
    "import pandas as pd\n",
    "from pandas import DataFrame, Series\n",
    "# Set some pandas options\n",
    "pd.set_option('display.height', 1000)\n",
    "pd.set_option('display.max_rows', 50)\n",
    "pd.set_option('display.max_columns', 500)\n",
    "pd.set_option('display.width', 1000)\n",
    "# And some items for matplotlib\n",
    "%matplotlib inline\n",
    "import matplotlib.pyplot as plt\n",
    "import logprocessing as lp\n",
    "import io\n",
    "from IPython.display import display, HTML\n",
    "import statsmodels.formula.api as smf"
   ]
  },
  {
   "cell_type": "code",
   "execution_count": 2,
   "metadata": {
    "scrolled": true
   },
   "outputs": [],
   "source": [
    "m =  lp.MetadataBuilder().load_cpu_cores(32).build()\n",
    "\n",
    "query = {\n",
    "        \"header\": \"timestamp cpu1 io_write io_read net_down net_up memory power\",\n",
    "        \"columns\": \"cpu0.timestamp, 100 - cpu0.idle, io.writet, io.readt, net.download, net.upload, memory.used, mean( energy.power_active )\"\n",
    "}\n",
    "\n",
    "def dataframe_from_exp( d ):\n",
    "    buffer = io.StringIO()\n",
    "\n",
    "    p = lp.LogProcessor( \n",
    "        directory = d,\n",
    "        meta = m,\n",
    "        query = query,\n",
    "        _file = buffer)\n",
    "\n",
    "    p.process()\n",
    "    buffer.flush()\n",
    "    buffer.seek(0)\n",
    "    df = pd.read_csv( buffer, delimiter=' ', index_col = False)\n",
    "    buffer.close()\n",
    "    \n",
    "    return df\n",
    "    "
   ]
  },
  {
   "cell_type": "code",
   "execution_count": 8,
   "metadata": {
    "scrolled": true
   },
   "outputs": [
    {
     "name": "stdout",
     "output_type": "stream",
     "text": [
      "1800\n"
     ]
    }
   ],
   "source": [
    "df = dataframe_from_exp(\"/home/danilo/Workspace/Experiments0503/f22/\")\n",
    "df[\"io\"] = df[\"io_read\"] + df[\"io_write\"]\n",
    "mod = smf.ols(formula='power ~ cpu1 + io', data=df)\n",
    "res = mod.fit()\n",
    "\n",
    "print(df.shape[0])"
   ]
  },
  {
   "cell_type": "code",
   "execution_count": 4,
   "metadata": {
    "scrolled": true
   },
   "outputs": [
    {
     "name": "stdout",
     "output_type": "stream",
     "text": [
      "                            OLS Regression Results                            \n",
      "==============================================================================\n",
      "Dep. Variable:                  power   R-squared:                       0.702\n",
      "Model:                            OLS   Adj. R-squared:                  0.701\n",
      "Method:                 Least Squares   F-statistic:                     528.3\n",
      "Date:                Wed, 07 Mar 2018   Prob (F-statistic):          8.02e-234\n",
      "Time:                        14:30:57   Log-Likelihood:                -2496.7\n",
      "No. Observations:                 900   AIC:                             5003.\n",
      "Df Residuals:                     895   BIC:                             5027.\n",
      "Df Model:                           4                                         \n",
      "Covariance Type:            nonrobust                                         \n",
      "==============================================================================\n",
      "                 coef    std err          t      P>|t|      [0.025      0.975]\n",
      "------------------------------------------------------------------------------\n",
      "Intercept    150.3122      0.941    159.735      0.000     148.465     152.159\n",
      "cpu1_f21       0.4735      0.010     45.093      0.000       0.453       0.494\n",
      "cpu1_f22      -0.3231      0.339     -0.953      0.341      -0.988       0.342\n",
      "io_f21      5.601e-05   4.07e-05      1.375      0.169   -2.39e-05       0.000\n",
      "io_f22        -0.0039      0.084     -0.047      0.963      -0.168       0.160\n",
      "==============================================================================\n",
      "Omnibus:                      125.301   Durbin-Watson:                   1.411\n",
      "Prob(Omnibus):                  0.000   Jarque-Bera (JB):              178.955\n",
      "Skew:                           1.011   Prob(JB):                     1.38e-39\n",
      "Kurtosis:                       3.827   Cond. No.                     7.59e+04\n",
      "==============================================================================\n",
      "\n",
      "Warnings:\n",
      "[1] Standard Errors assume that the covariance matrix of the errors is correctly specified.\n",
      "[2] The condition number is large, 7.59e+04. This might indicate that there are\n",
      "strong multicollinearity or other numerical problems.\n"
     ]
    }
   ],
   "source": [
    "dff21 = dataframe_from_exp(\"/home/danilo/Workspace/Experiments0503/f21/one_server\")\n",
    "dff22 = dataframe_from_exp(\"/home/danilo/Workspace/Experiments0503/f22/one_server\")\n",
    "\n",
    "dfjoint = pd.DataFrame()\n",
    "\n",
    "dfjoint[\"power\"] = dff21[\"power\"] + dff22[\"power\"]\n",
    "dfjoint[\"cpu1_f21\"] = dff21[\"cpu1\"]\n",
    "dfjoint[\"cpu1_f22\"] = dff22[\"cpu1\"]\n",
    "dfjoint[\"io_f21\"] = dff21[\"io_read\"] + dff21[\"io_write\"]\n",
    "dfjoint[\"io_f22\"] = dff22[\"io_read\"] + dff22[\"io_write\"]\n",
    "\n",
    "mod = smf.ols(formula='power ~ cpu1_f21 + cpu1_f22 + io_f21 + io_f22', data=dfjoint)\n",
    "res = mod.fit()\n",
    "\n",
    "print(res.summary())"
   ]
  },
  {
   "cell_type": "code",
   "execution_count": 5,
   "metadata": {},
   "outputs": [
    {
     "name": "stdout",
     "output_type": "stream",
     "text": [
      "                            OLS Regression Results                            \n",
      "==============================================================================\n",
      "Dep. Variable:                  power   R-squared:                       0.805\n",
      "Model:                            OLS   Adj. R-squared:                  0.804\n",
      "Method:                 Least Squares   F-statistic:                     921.4\n",
      "Date:                Wed, 07 Mar 2018   Prob (F-statistic):          1.75e-315\n",
      "Time:                        14:30:58   Log-Likelihood:                -2613.8\n",
      "No. Observations:                 900   AIC:                             5238.\n",
      "Df Residuals:                     895   BIC:                             5262.\n",
      "Df Model:                           4                                         \n",
      "Covariance Type:            nonrobust                                         \n",
      "==============================================================================\n",
      "                 coef    std err          t      P>|t|      [0.025      0.975]\n",
      "------------------------------------------------------------------------------\n",
      "Intercept    171.4443      0.628    272.819      0.000     170.211     172.678\n",
      "cpu1_f21       0.3393      0.006     59.890      0.000       0.328       0.350\n",
      "cpu1_f22       1.8235      0.296      6.153      0.000       1.242       2.405\n",
      "io_f21         0.0001   8.43e-05      1.760      0.079   -1.71e-05       0.000\n",
      "io_f22         0.0003   6.89e-05      4.679      0.000       0.000       0.000\n",
      "==============================================================================\n",
      "Omnibus:                       70.548   Durbin-Watson:                   0.630\n",
      "Prob(Omnibus):                  0.000   Jarque-Bera (JB):              124.725\n",
      "Skew:                           0.538   Prob(JB):                     8.25e-28\n",
      "Kurtosis:                       4.472   Cond. No.                     3.15e+04\n",
      "==============================================================================\n",
      "\n",
      "Warnings:\n",
      "[1] Standard Errors assume that the covariance matrix of the errors is correctly specified.\n",
      "[2] The condition number is large, 3.15e+04. This might indicate that there are\n",
      "strong multicollinearity or other numerical problems.\n"
     ]
    }
   ],
   "source": [
    "dff21 = dataframe_from_exp(\"/home/danilo/Workspace/Experiments0503/f21/two_servers\")\n",
    "dff22 = dataframe_from_exp(\"/home/danilo/Workspace/Experiments0503/f22/two_servers\")\n",
    "\n",
    "dfjoint = pd.DataFrame()\n",
    "\n",
    "dfjoint[\"power\"] = dff21[\"power\"] + dff22[\"power\"]\n",
    "dfjoint[\"cpu1_f21\"] = dff21[\"cpu1\"]\n",
    "dfjoint[\"cpu1_f22\"] = dff22[\"cpu1\"]\n",
    "dfjoint[\"io_f21\"] = dff21[\"io_read\"] + dff21[\"io_write\"]\n",
    "dfjoint[\"io_f22\"] = dff22[\"io_read\"] + dff22[\"io_write\"]\n",
    "\n",
    "mod = smf.ols(formula='power ~ cpu1_f21 + cpu1_f22 + io_f21 + io_f22', data=dfjoint)\n",
    "res = mod.fit()\n",
    "\n",
    "print(res.summary())"
   ]
  },
  {
   "cell_type": "code",
   "execution_count": 6,
   "metadata": {},
   "outputs": [
    {
     "name": "stdout",
     "output_type": "stream",
     "text": [
      "                            OLS Regression Results                            \n",
      "==============================================================================\n",
      "Dep. Variable:                  power   R-squared:                       0.700\n",
      "Model:                            OLS   Adj. R-squared:                  0.699\n",
      "Method:                 Least Squares   F-statistic:                     1045.\n",
      "Date:                Wed, 07 Mar 2018   Prob (F-statistic):               0.00\n",
      "Time:                        14:30:59   Log-Likelihood:                -5519.4\n",
      "No. Observations:                1800   AIC:                         1.105e+04\n",
      "Df Residuals:                    1795   BIC:                         1.108e+04\n",
      "Df Model:                           4                                         \n",
      "Covariance Type:            nonrobust                                         \n",
      "==============================================================================\n",
      "                 coef    std err          t      P>|t|      [0.025      0.975]\n",
      "------------------------------------------------------------------------------\n",
      "Intercept    166.3915      0.596    278.967      0.000     165.222     167.561\n",
      "cpu1_f21       0.3390      0.006     57.318      0.000       0.327       0.351\n",
      "cpu1_f22       0.5324      0.268      1.985      0.047       0.006       1.059\n",
      "io_f21        -0.0004   4.23e-05     -9.976      0.000      -0.001      -0.000\n",
      "io_f22         0.0018   5.19e-05     34.655      0.000       0.002       0.002\n",
      "==============================================================================\n",
      "Omnibus:                      268.020   Durbin-Watson:                   0.893\n",
      "Prob(Omnibus):                  0.000   Jarque-Bera (JB):             1172.593\n",
      "Skew:                           0.647   Prob(JB):                    2.37e-255\n",
      "Kurtosis:                       6.736   Cond. No.                     4.14e+04\n",
      "==============================================================================\n",
      "\n",
      "Warnings:\n",
      "[1] Standard Errors assume that the covariance matrix of the errors is correctly specified.\n",
      "[2] The condition number is large, 4.14e+04. This might indicate that there are\n",
      "strong multicollinearity or other numerical problems.\n"
     ]
    }
   ],
   "source": [
    "dff21 = dataframe_from_exp(\"/home/danilo/Workspace/Experiments0503/f21/\")\n",
    "dff22 = dataframe_from_exp(\"/home/danilo/Workspace/Experiments0503/f22/\")\n",
    "\n",
    "dfjoint = pd.DataFrame()\n",
    "\n",
    "dfjoint[\"power\"] = dff21[\"power\"] + dff22[\"power\"]\n",
    "dfjoint[\"cpu1_f21\"] = dff21[\"cpu1\"]\n",
    "dfjoint[\"cpu1_f22\"] = dff22[\"cpu1\"]\n",
    "dfjoint[\"io_f21\"] = dff21[\"io_read\"] + dff21[\"io_write\"]\n",
    "dfjoint[\"io_f22\"] = dff22[\"io_read\"] + dff22[\"io_write\"]\n",
    "\n",
    "mod = smf.ols(formula='power ~ cpu1_f21 + cpu1_f22 + io_f21 + io_f22', data=dfjoint)\n",
    "res = mod.fit()\n",
    "\n",
    "print(res.summary())"
   ]
  }
 ],
 "metadata": {
  "kernelspec": {
   "display_name": "Python 3",
   "language": "python",
   "name": "python3"
  },
  "language_info": {
   "codemirror_mode": {
    "name": "ipython",
    "version": 3
   },
   "file_extension": ".py",
   "mimetype": "text/x-python",
   "name": "python",
   "nbconvert_exporter": "python",
   "pygments_lexer": "ipython3",
   "version": "3.6.4"
  }
 },
 "nbformat": 4,
 "nbformat_minor": 2
}
