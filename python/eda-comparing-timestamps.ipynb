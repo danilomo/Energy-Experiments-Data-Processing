{
 "cells": [
  {
   "cell_type": "code",
   "execution_count": 1,
   "metadata": {},
   "outputs": [],
   "source": [
    "# import numpy and pandas, and DataFrame / Series\n",
    "import numpy as np\n",
    "import pandas as pd\n",
    "from pandas import DataFrame, Series\n",
    "# Set some pandas options\n",
    "pd.set_option('display.notebook_repr_html', False)\n",
    "pd.set_option('display.max_columns', 10)\n",
    "pd.set_option('display.max_rows', 10)\n",
    "# And some items for matplotlib\n",
    "%matplotlib inline\n",
    "import matplotlib.pyplot as plt\n",
    "import logprocessing as lp\n",
    "import io\n",
    "from IPython.display import display, HTML"
   ]
  },
  {
   "cell_type": "code",
   "execution_count": 2,
   "metadata": {},
   "outputs": [],
   "source": [
    "m =  lp.MetadataBuilder().load_cpu_cores(32).build()\n",
    "\n",
    "query = {\n",
    "        \"header\": \"timestamp cpu1 io_write io_read net_down net_up memory power\",\n",
    "        \"columns\": \"cpu0.timestamp, 100 - cpu0.idle, io.writet, io.readt, net.download, net.upload, memory.used, mean( energy.power_active )\"\n",
    "}\n",
    "\n",
    "def dataframe_from_exp( d ):\n",
    "    buffer = io.StringIO()\n",
    "\n",
    "    p = lp.LogProcessor( \n",
    "        directory = d,\n",
    "        meta = m,\n",
    "        query = query,\n",
    "        _file = buffer)\n",
    "\n",
    "    p.process()\n",
    "    buffer.flush()\n",
    "    buffer.seek(0)\n",
    "    df = pd.read_csv( buffer, delimiter=' ', index_col = False)\n",
    "    buffer.close()\n",
    "    \n",
    "    return df\n",
    "    "
   ]
  },
  {
   "cell_type": "code",
   "execution_count": 3,
   "metadata": {},
   "outputs": [
    {
     "data": {
      "text/plain": [
       "<matplotlib.axes._subplots.AxesSubplot at 0x7fb20a66e9b0>"
      ]
     },
     "execution_count": 3,
     "metadata": {},
     "output_type": "execute_result"
    },
    {
     "data": {
      "image/png": "[encoded data removed]",
      "text/plain": [
       "<matplotlib.figure.Figure at 0x7fb20a6d4390>"
      ]
     },
     "metadata": {},
     "output_type": "display_data"
    }
   ],
   "source": [
    "# The experiments run on two different servers, but the clocks were synchronized\n",
    "# Each value from the resulting series is the difference in milisseconds.\n",
    "\n",
    "df21 = dataframe_from_exp(\"/home/danilo/Workspace/Experiments0503/f21/one_server/experiments/experiment_100_60_5000_5000\")\n",
    "df22 = dataframe_from_exp(\"/home/danilo/Workspace/Experiments0503/f22/one_server/experiments/experiment_100_60_5000_5000\")\n",
    "pd.Series.hist(df21.timestamp - df22.timestamp)"
   ]
  },
  {
   "cell_type": "code",
   "execution_count": 4,
   "metadata": {},
   "outputs": [
    {
     "data": {
      "text/plain": [
       "<matplotlib.axes._subplots.AxesSubplot at 0x7fb1fe8088d0>"
      ]
     },
     "execution_count": 4,
     "metadata": {},
     "output_type": "execute_result"
    },
    {
     "data": {
      "image/png": "[encoded data removed]",
      "text/plain": [
       "<matplotlib.figure.Figure at 0x7fb20a6d4198>"
      ]
     },
     "metadata": {},
     "output_type": "display_data"
    }
   ],
   "source": [
    "# again, using the whole experimental data\n",
    "\n",
    "df21 = dataframe_from_exp(\"/home/danilo/Workspace/Experiments0503/f21/one_server\")\n",
    "df22 = dataframe_from_exp(\"/home/danilo/Workspace/Experiments0503/f22/one_server\")\n",
    "pd.Series.hist(df21.timestamp - df22.timestamp)"
   ]
  },
  {
   "cell_type": "code",
   "execution_count": 5,
   "metadata": {},
   "outputs": [
    {
     "data": {
      "text/plain": [
       "<matplotlib.axes._subplots.AxesSubplot at 0x7fb1fe7ad5c0>"
      ]
     },
     "execution_count": 5,
     "metadata": {},
     "output_type": "execute_result"
    },
    {
     "data": {
      "image/png": "[encoded data removed]",
      "text/plain": [
       "<matplotlib.figure.Figure at 0x7fb1fe821e48>"
      ]
     },
     "metadata": {},
     "output_type": "display_data"
    }
   ],
   "source": [
    "# again, using the whole experimental data\n",
    "\n",
    "df21 = dataframe_from_exp(\"/home/danilo/Workspace/Experiments0503/f21/two_servers\")\n",
    "df22 = dataframe_from_exp(\"/home/danilo/Workspace/Experiments0503/f22/two_servers\")\n",
    "pd.Series.hist(df21.timestamp - df22.timestamp)"
   ]
  },
  {
   "cell_type": "code",
   "execution_count": 6,
   "metadata": {},
   "outputs": [
    {
     "data": {
      "text/plain": [
       "<matplotlib.axes._subplots.AxesSubplot at 0x7fb1fe710b00>"
      ]
     },
     "execution_count": 6,
     "metadata": {},
     "output_type": "execute_result"
    },
    {
     "data": {
      "image/png": "[encoded data removed]",
      "text/plain": [
       "<matplotlib.figure.Figure at 0x7fb20a6d1240>"
      ]
     },
     "metadata": {},
     "output_type": "display_data"
    }
   ],
   "source": [
    "# again, using the whole experimental data\n",
    "\n",
    "df21 = dataframe_from_exp(\"/home/danilo/Workspace/Experiments0503/f21\")\n",
    "df22 = dataframe_from_exp(\"/home/danilo/Workspace/Experiments0503/f22\")\n",
    "pd.Series.hist(df21.timestamp - df22.timestamp)"
   ]
  }
 ],
 "metadata": {
  "kernelspec": {
   "display_name": "Python 3",
   "language": "python",
   "name": "python3"
  },
  "language_info": {
   "codemirror_mode": {
    "name": "ipython",
    "version": 3
   },
   "file_extension": ".py",
   "mimetype": "text/x-python",
   "name": "python",
   "nbconvert_exporter": "python",
   "pygments_lexer": "ipython3",
   "version": "3.6.4"
  }
 },
 "nbformat": 4,
 "nbformat_minor": 2
}
