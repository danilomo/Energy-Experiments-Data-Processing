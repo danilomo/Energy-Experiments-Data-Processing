{
 "cells": [
  {
   "cell_type": "code",
   "execution_count": 1,
   "metadata": {},
   "outputs": [],
   "source": [
    "# import numpy and pandas, and DataFrame / Series\n",
    "import numpy as np\n",
    "import pandas as pd\n",
    "from pandas import DataFrame, Series\n",
    "# Set some pandas options\n",
    "pd.set_option('display.notebook_repr_html', False)\n",
    "pd.set_option('display.max_columns', 10)\n",
    "pd.set_option('display.max_rows', 10)\n",
    "# And some items for matplotlib\n",
    "%matplotlib inline\n",
    "import matplotlib.pyplot as plt\n",
    "import logprocessing as lp\n",
    "import io\n",
    "from IPython.display import display, HTML"
   ]
  },
  {
   "cell_type": "code",
   "execution_count": 2,
   "metadata": {},
   "outputs": [],
   "source": [
    "m =  lp.MetadataBuilder().load_cpu_cores(32).build()\n",
    "\n",
    "query = {\n",
    "        \"header\": \"timestamp cpu1 io_write io_read net_down net_up memory power\",\n",
    "        \"columns\": \"cpu0.timestamp, 100 - cpu0.idle, io.writet, io.readt, net.download, net.upload, memory.used, mean( energy.power_active )\"\n",
    "}\n",
    "\n",
    "def dataframe_from_exp( d ):\n",
    "    buffer = io.StringIO()\n",
    "\n",
    "    p = lp.LogProcessor( \n",
    "        directory = d,\n",
    "        meta = m,\n",
    "        query = query,\n",
    "        _file = buffer)\n",
    "\n",
    "    p.process()\n",
    "    buffer.flush()\n",
    "    buffer.seek(0)\n",
    "    df = pd.read_csv( buffer, delimiter=' ', index_col = False)\n",
    "    buffer.close()\n",
    "    \n",
    "    return df\n",
    "    "
   ]
  },
  {
   "cell_type": "code",
   "execution_count": 3,
   "metadata": {},
   "outputs": [],
   "source": [
    "df = dataframe_from_exp(\"../experiments/\")\n"
   ]
  },
  {
   "cell_type": "code",
   "execution_count": 5,
   "metadata": {},
   "outputs": [
    {
     "name": "stdout",
     "output_type": "stream",
     "text": [
      "                            OLS Regression Results                            \n",
      "==============================================================================\n",
      "Dep. Variable:                  power   R-squared:                       0.876\n",
      "Model:                            OLS   Adj. R-squared:                  0.876\n",
      "Method:                 Least Squares   F-statistic:                     6354.\n",
      "Date:                Wed, 07 Mar 2018   Prob (F-statistic):               0.00\n",
      "Time:                        10:05:27   Log-Likelihood:                -1987.7\n",
      "No. Observations:                 900   AIC:                             3979.\n",
      "Df Residuals:                     898   BIC:                             3989.\n",
      "Df Model:                           1                                         \n",
      "Covariance Type:            nonrobust                                         \n",
      "==============================================================================\n",
      "                 coef    std err          t      P>|t|      [0.025      0.975]\n",
      "------------------------------------------------------------------------------\n",
      "Intercept     69.5805      0.474    146.881      0.000      68.651      70.510\n",
      "cpu1           0.4642      0.006     79.715      0.000       0.453       0.476\n",
      "==============================================================================\n",
      "Omnibus:                       56.753   Durbin-Watson:                   0.710\n",
      "Prob(Omnibus):                  0.000   Jarque-Bera (JB):               67.711\n",
      "Skew:                           0.605   Prob(JB):                     1.98e-15\n",
      "Kurtosis:                       3.584   Cond. No.                         524.\n",
      "==============================================================================\n",
      "\n",
      "Warnings:\n",
      "[1] Standard Errors assume that the covariance matrix of the errors is correctly specified.\n"
     ]
    }
   ],
   "source": [
    "#simple monovariable linear regression model\n",
    "\n",
    "import statsmodels.formula.api as smf\n",
    "\n",
    "mod = smf.ols(formula='power ~ cpu1', data=df)\n",
    "\n",
    "res = mod.fit()\n",
    "\n",
    "print(res.summary())"
   ]
  },
  {
   "cell_type": "code",
   "execution_count": null,
   "metadata": {},
   "outputs": [],
   "source": []
  }
 ],
 "metadata": {
  "kernelspec": {
   "display_name": "Python 3",
   "language": "python",
   "name": "python3"
  },
  "language_info": {
   "codemirror_mode": {
    "name": "ipython",
    "version": 3
   },
   "file_extension": ".py",
   "mimetype": "text/x-python",
   "name": "python",
   "nbconvert_exporter": "python",
   "pygments_lexer": "ipython3",
   "version": "3.6.4"
  }
 },
 "nbformat": 4,
 "nbformat_minor": 2
}
